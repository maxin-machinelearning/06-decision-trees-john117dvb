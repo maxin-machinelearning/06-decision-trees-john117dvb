{
 "cells": [
  {
   "cell_type": "code",
   "execution_count": null,
   "metadata": {},
   "outputs": [],
   "source": [
    "from sklearn.datasets import load_iris\n",
    "from sklearn import tree\n",
    "\n",
    "iris=load_iris()\n",
    "X,y=iris.data,iris.target\n",
    "clf=tree.DecisionTreeClassifier()\n",
    "clf=clf.fit(X,y)\n"
   ]
  },
  {
   "cell_type": "code",
   "execution_count": null,
   "metadata": {},
   "outputs": [],
   "source": [
    "import matplotlib.pyplot as plt\n",
    "\n",
    "plt.figure(dpi=400)\n",
    "tree.plot_tree(clf,filled=True)"
   ]
  },
  {
   "cell_type": "code",
   "execution_count": null,
   "metadata": {},
   "outputs": [],
   "source": [
    "import graphviz\n",
    "\n",
    "dot_data=tree.export_graphviz(clf,out_file=None)\n",
    "graph=graphviz.Source(dot_data)\n",
    "graph.render(\"1\")"
   ]
  },
  {
   "cell_type": "code",
   "execution_count": null,
   "metadata": {},
   "outputs": [],
   "source": [
    "# 先构造正弦函数 + 噪音\n",
    "import numpy as np\n",
    "\n",
    "rng = np.random.RandomState(1)\n",
    "X = np.sort(5 * rng.rand(80, 1), axis=0)  # 生成 0~5之间随机数据，并排序，因为 sklearn用二维特征数据，所以定义数据时候直接定义为二维\n",
    "y = np.sin(X).ravel()  # 对数据进行降维，sklearn标签数据是一维的\n",
    "y[::5] += 3 * (0.5 - rng.rand(16))  # 添加噪音"
   ]
  },
  {
   "cell_type": "code",
   "execution_count": null,
   "metadata": {},
   "outputs": [],
   "source": [
    "# 画出图像\n",
    "import matplotlib.pyplot as plt\n",
    "\n",
    "plt.scatter(X, y)"
   ]
  },
  {
   "cell_type": "code",
   "execution_count": null,
   "metadata": {},
   "outputs": [],
   "source": [
    "# 训练两个不同深度的回归模型\n",
    "from sklearn.tree import DecisionTreeRegressor\n",
    "\n",
    "regr1 = DecisionTreeRegressor(max_depth=2)\n",
    "regr2 = DecisionTreeRegressor(max_depth=10)\n",
    "regr1.fit(X, y)\n",
    "regr2.fit(X, y)\n",
    "DecisionTreeRegressor(criterion='mse', max_depth=10, max_features=None,\n",
    "                      max_leaf_nodes=None, min_impurity_decrease=0.0,\n",
    "                      min_samples_leaf=1,min_samples_split=2, \n",
    "                      min_weight_fraction_leaf=0.0,\n",
    "                      random_state=None, splitter='best')\n",
    "# 构建测试数据集\n",
    "X_test = np.arange(0, 5.0, 0.01)[:, np.newaxis]  # 数据转换为 二维\n",
    "y_1 = regr1.predict(X_test)\n",
    "y_2 = regr2.predict(X_test)\n",
    "# 画出两个模型拟合的图像\n",
    "plt.figure(num='title1', figsize=(16, 4))\n",
    "plt.scatter(X_test, y_1, c='red')\n",
    "plt.title('y1', size=15)\n",
    "plt.xlabel('x', size=15)\n",
    "plt.ylabel('y', size=15)\n",
    "\n",
    "plt.figure(num='title2', figsize=(16, 4))\n",
    "plt.scatter(X_test, y_2, c='green')\n",
    "plt.title('y2', size=15)\n",
    "plt.xlabel('x', size=15)\n",
    "plt.ylabel('y', size=15)"
   ]
  }
 ],
 "metadata": {
  "kernelspec": {
   "display_name": "Python 3.9.13 ('base')",
   "language": "python",
   "name": "python3"
  },
  "language_info": {
   "codemirror_mode": {
    "name": "ipython",
    "version": 3
   },
   "file_extension": ".py",
   "mimetype": "text/x-python",
   "name": "python",
   "nbconvert_exporter": "python",
   "pygments_lexer": "ipython3",
   "version": "3.9.13"
  },
  "orig_nbformat": 4,
  "vscode": {
   "interpreter": {
    "hash": "a4df7a6600e22bae99e6e8f837be5af686fd7a404512ca9c2620376f38fe7d31"
   }
  }
 },
 "nbformat": 4,
 "nbformat_minor": 2
}
